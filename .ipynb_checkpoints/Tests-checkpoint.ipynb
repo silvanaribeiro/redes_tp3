{
 "cells": [
  {
   "cell_type": "code",
   "execution_count": 1,
   "metadata": {},
   "outputs": [],
   "source": [
    "def is_message_valid(message):\n",
    "    valid_chars = \",.?!:;+-*/=@#$%()[]{}1234567890abcdefghijklmnopqrstuvxwyzABCDEFGHIJKLMNOPQRSTUVXWYZ \"\n",
    "    for c in message:\n",
    "        if c not in valid_chars:\n",
    "            return False\n",
    "    return True\n",
    "    "
   ]
  },
  {
   "cell_type": "code",
   "execution_count": 2,
   "metadata": {},
   "outputs": [
    {
     "data": {
      "text/plain": [
       "True"
      ]
     },
     "execution_count": 2,
     "metadata": {},
     "output_type": "execute_result"
    }
   ],
   "source": [
    "is_message_valid(\"teste valido []\")"
   ]
  },
  {
   "cell_type": "code",
   "execution_count": 3,
   "metadata": {},
   "outputs": [
    {
     "data": {
      "text/plain": [
       "False"
      ]
     },
     "execution_count": 3,
     "metadata": {},
     "output_type": "execute_result"
    }
   ],
   "source": [
    "is_message_valid(\"teste invalido ç[]\")"
   ]
  },
  {
   "cell_type": "code",
   "execution_count": 4,
   "metadata": {},
   "outputs": [],
   "source": [
    "def decode_message(message):\n",
    "    delimiters = [\"+\", \"-\", \"#\"]\n",
    "    final_result = []\n",
    "    second_round = []\n",
    "    third_round = []\n",
    "    result = message.split(delimiters[0])\n",
    "    for r in result:\n",
    "        if '-' not in r and '#' not in r and r is not '':\n",
    "            final_result.append('+'+r)\n",
    "        elif r is not '':\n",
    "            second_round.append('+' +r)      \n",
    "    for s in second_round:\n",
    "        result = s.split(delimiters[1])\n",
    "        for r in result:\n",
    "            if '#' not in r and r is not '':\n",
    "                if '+' in r:\n",
    "                    final_result.append(r)\n",
    "                else:\n",
    "                    final_result.append('-'+r)\n",
    "            elif r is not '':\n",
    "                if r.startswith('+') or r.startswith('#'):\n",
    "                    third_round.append(r)\n",
    "                else:\n",
    "                    third_round.append('-'+r)       \n",
    "    \n",
    "    for t in third_round:\n",
    "        result = t.split(delimiters[2])\n",
    "        for r in result:\n",
    "            if '#' not in r and r is not '':\n",
    "                if '-' not in r and '+' not in r:\n",
    "                    final_result.append('#'+r)\n",
    "                else:\n",
    "                    final_result.append(r)\n",
    "    return final_result"
   ]
  },
  {
   "cell_type": "code",
   "execution_count": 5,
   "metadata": {},
   "outputs": [
    {
     "data": {
      "text/plain": [
       "['+a', '+b', '+c', '-a', '#b']"
      ]
     },
     "execution_count": 5,
     "metadata": {},
     "output_type": "execute_result"
    }
   ],
   "source": [
    "decode_message(\"+a+b+c-a#b\")"
   ]
  },
  {
   "cell_type": "code",
   "execution_count": 26,
   "metadata": {},
   "outputs": [
    {
     "data": {
      "text/plain": [
       "['+olha que linda essa mensagem',\n",
       " '+a',\n",
       " '+a',\n",
       " '+b',\n",
       " '+b',\n",
       " '+a',\n",
       " '+a',\n",
       " '+b',\n",
       " '+c',\n",
       " '-a',\n",
       " '+c',\n",
       " '-a',\n",
       " '+d',\n",
       " '-a',\n",
       " '-a',\n",
       " '+c',\n",
       " '-a',\n",
       " '+d',\n",
       " '#b',\n",
       " '#c',\n",
       " '-d',\n",
       " '#b',\n",
       " '+d',\n",
       " '#b',\n",
       " '+a',\n",
       " '#b',\n",
       " '+d',\n",
       " '#b',\n",
       " '+d',\n",
       " '#b',\n",
       " '#c',\n",
       " '-d',\n",
       " '#b',\n",
       " '#c',\n",
       " '-d',\n",
       " '#b']"
      ]
     },
     "execution_count": 26,
     "metadata": {},
     "output_type": "execute_result"
    }
   ],
   "source": [
    "decode_message(\"olha que linda essa mensagem+a+a+b+c-a+d#b#c-d#b+b+c-a+d-a+d#b+a#b-a+d#b+a+a+b+c-a+d#b#c-d#b#c-d#b\")"
   ]
  },
  {
   "cell_type": "code",
   "execution_count": 15,
   "metadata": {},
   "outputs": [],
   "source": [
    "dict_client_tags = {}"
   ]
  },
  {
   "cell_type": "code",
   "execution_count": 16,
   "metadata": {},
   "outputs": [],
   "source": [
    "def add_tag_to_client(ip_port, tag, dict_client_tags):\n",
    "    tag = tag[1:]\n",
    "    if ip_port in dict_client_tags:\n",
    "        temp_list = dict_client_tags[ip_port]\n",
    "        if tag not in temp_list:\n",
    "            temp_list.append(tag)\n",
    "            dict_client_tags[ip_port] = temp_list\n",
    "    else:\n",
    "        dict_client_tags[ip_port] = [tag]\n",
    "    return dict_client_tags"
   ]
  },
  {
   "cell_type": "code",
   "execution_count": 17,
   "metadata": {},
   "outputs": [],
   "source": [
    "def remove_tag_from_client(ip_port, tag, dict_client_tags):\n",
    "    tag = tag[1:]\n",
    "    if ip_port in dict_client_tags:\n",
    "        temp_list = dict_client_tags[ip_port]\n",
    "        temp_list.remove(tag)\n",
    "        dict_client_tags[ip_port] = temp_list\n",
    "    return dict_client_tags\n",
    "    "
   ]
  },
  {
   "cell_type": "code",
   "execution_count": 18,
   "metadata": {},
   "outputs": [
    {
     "data": {
      "text/plain": [
       "{'1.1.1.1:8080': ['#tag1']}"
      ]
     },
     "execution_count": 18,
     "metadata": {},
     "output_type": "execute_result"
    }
   ],
   "source": [
    "add_tag_to_client('1.1.1.1:8080', \"#tag1\", dict_client_tags)"
   ]
  },
  {
   "cell_type": "code",
   "execution_count": 19,
   "metadata": {},
   "outputs": [
    {
     "data": {
      "text/plain": [
       "{'1.1.1.1:8080': ['#tag1', '#tag2']}"
      ]
     },
     "execution_count": 19,
     "metadata": {},
     "output_type": "execute_result"
    }
   ],
   "source": [
    "add_tag_to_client('1.1.1.1:8080', \"#tag2\", dict_client_tags)"
   ]
  },
  {
   "cell_type": "code",
   "execution_count": 20,
   "metadata": {},
   "outputs": [
    {
     "data": {
      "text/plain": [
       "{'1.1.1.1:8080': ['#tag1', '#tag2'], '1.1.1.2:8080': ['#tag1']}"
      ]
     },
     "execution_count": 20,
     "metadata": {},
     "output_type": "execute_result"
    }
   ],
   "source": [
    "add_tag_to_client('1.1.1.2:8080', \"#tag1\", dict_client_tags)"
   ]
  },
  {
   "cell_type": "code",
   "execution_count": 23,
   "metadata": {},
   "outputs": [],
   "source": [
    "def send_message_to_interested_part(tag, message, dict_client_tags):\n",
    "    for client, tags in dict_client_tags.items():\n",
    "        if tag in tags:\n",
    "            print(\"send message to client\", client, message)"
   ]
  },
  {
   "cell_type": "code",
   "execution_count": 32,
   "metadata": {},
   "outputs": [
    {
     "name": "stdout",
     "output_type": "stream",
     "text": [
      "send message to client 1.1.1.1:8080 Olha a #tag2\n"
     ]
    }
   ],
   "source": [
    "send_message_to_interested_part(\"#tag2\", \"Olha a #tag2\", dict_client_tags)"
   ]
  },
  {
   "cell_type": "code",
   "execution_count": 13,
   "metadata": {},
   "outputs": [
    {
     "data": {
      "text/plain": [
       "{'1.1.1.1:8080': ['tag1'], '1.1.1.2:8080': ['tag1']}"
      ]
     },
     "execution_count": 13,
     "metadata": {},
     "output_type": "execute_result"
    }
   ],
   "source": [
    "remove_tag_from_client('1.1.1.1:8080', \"tag2\", dict_client_tags)"
   ]
  },
  {
   "cell_type": "code",
   "execution_count": null,
   "metadata": {},
   "outputs": [],
   "source": []
  },
  {
   "cell_type": "code",
   "execution_count": 27,
   "metadata": {},
   "outputs": [],
   "source": [
    "def new_decode_message(message):\n",
    "    final_result = list()\n",
    "    delimiters = [\"+\", \"-\", \"#\"]\n",
    "    word = \"\"\n",
    "    count_delimiters = 0\n",
    "    for letter in message:\n",
    "        if letter not in delimiters:\n",
    "            word += letter\n",
    "        elif letter in delimiters and count_delimiters is 0:\n",
    "            word = letter\n",
    "            count_delimiters = 1\n",
    "        elif letter in delimiters and count_delimiters is 1:\n",
    "            final_result.append(word)\n",
    "            word = letter\n",
    "            count_delimiters = 1\n",
    "    return final_result"
   ]
  },
  {
   "cell_type": "code",
   "execution_count": 28,
   "metadata": {},
   "outputs": [
    {
     "data": {
      "text/plain": [
       "['+a', '+b', '+c', '-a']"
      ]
     },
     "execution_count": 28,
     "metadata": {},
     "output_type": "execute_result"
    }
   ],
   "source": [
    "new_decode_message(\"+a+b+c-a#b\")"
   ]
  },
  {
   "cell_type": "code",
   "execution_count": 31,
   "metadata": {},
   "outputs": [
    {
     "data": {
      "text/plain": [
       "['#copa galera',\n",
       " '+a',\n",
       " '+a',\n",
       " '+b',\n",
       " '+c',\n",
       " '-a',\n",
       " '+d',\n",
       " '#b',\n",
       " '#c',\n",
       " '-d',\n",
       " '#b',\n",
       " '+b',\n",
       " '+c',\n",
       " '-a',\n",
       " '+d',\n",
       " '-a',\n",
       " '+d',\n",
       " '#b',\n",
       " '+a',\n",
       " '#b',\n",
       " '-a',\n",
       " '+d',\n",
       " '#b',\n",
       " '+a',\n",
       " '+a',\n",
       " '+b',\n",
       " '+c',\n",
       " '-a',\n",
       " '+d',\n",
       " '#b',\n",
       " '#c',\n",
       " '-d',\n",
       " '#b',\n",
       " '#c',\n",
       " '-d']"
      ]
     },
     "execution_count": 31,
     "metadata": {},
     "output_type": "execute_result"
    }
   ],
   "source": [
    "new_decode_message(\"olha a #copa galera+a+a+b+c-a+d#b#c-d#b+b+c-a+d-a+d#b+a#b-a+d#b+a+a+b+c-a+d#b#c-d#b#c-d#b\")"
   ]
  },
  {
   "cell_type": "code",
   "execution_count": null,
   "metadata": {},
   "outputs": [],
   "source": []
  }
 ],
 "metadata": {
  "kernelspec": {
   "display_name": "Python (py36)",
   "language": "python",
   "name": "py36"
  },
  "language_info": {
   "codemirror_mode": {
    "name": "ipython",
    "version": 3
   },
   "file_extension": ".py",
   "mimetype": "text/x-python",
   "name": "python",
   "nbconvert_exporter": "python",
   "pygments_lexer": "ipython3",
   "version": "3.6.4"
  }
 },
 "nbformat": 4,
 "nbformat_minor": 2
}
