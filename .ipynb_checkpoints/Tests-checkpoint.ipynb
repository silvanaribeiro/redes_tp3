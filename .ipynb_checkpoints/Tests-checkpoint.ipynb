{
 "cells": [
  {
   "cell_type": "code",
   "execution_count": null,
   "metadata": {},
   "outputs": [],
   "source": [
    "def is_message_valid(message):\n",
    "    valid_chars = \",.?!:;+-*/=@#$%()[]{}1234567890abcdefghijklmnopqrstuvxwyzABCDEFGHIJKLMNOPQRSTUVXWYZ \"\n",
    "    for c in message:\n",
    "        if c not in valid_chars:\n",
    "            return False\n",
    "    return True\n",
    "    "
   ]
  },
  {
   "cell_type": "code",
   "execution_count": null,
   "metadata": {},
   "outputs": [],
   "source": [
    "is_message_valid(\"teste valido []\")"
   ]
  },
  {
   "cell_type": "code",
   "execution_count": null,
   "metadata": {},
   "outputs": [],
   "source": [
    "is_message_valid(\"teste invalido ç[]\")"
   ]
  },
  {
   "cell_type": "code",
   "execution_count": 111,
   "metadata": {},
   "outputs": [],
   "source": [
    "def decode_message(message):\n",
    "    delimiters = [\"+\", \"-\", \"#\"]\n",
    "    final_result = []\n",
    "    second_round = []\n",
    "    third_round = []\n",
    "    result = message.split(delimiters[0])\n",
    "    for r in result:\n",
    "        if '-' not in r and '#' not in r and r is not '':\n",
    "            final_result.append('+'+r)\n",
    "        elif r is not '':\n",
    "            second_round.append('+' +r)      \n",
    "    for s in second_round:\n",
    "        result = s.split(delimiters[1])\n",
    "        for r in result:\n",
    "            if '#' not in r and r is not '':\n",
    "                if '+' in r:\n",
    "                    final_result.append(r)\n",
    "                else:\n",
    "                    final_result.append('-'+r)\n",
    "            elif r is not '':\n",
    "                if r.startswith('+') or r.startswith('#'):\n",
    "                    third_round.append(r)\n",
    "                else:\n",
    "                    third_round.append('-'+r)       \n",
    "    \n",
    "    for t in third_round:\n",
    "        result = t.split(delimiters[2])\n",
    "        for r in result:\n",
    "            if '#' not in r and r is not '':\n",
    "                if '-' not in r and '+' not in r:\n",
    "                    final_result.append('#'+r)\n",
    "                else:\n",
    "                    final_result.append(r)\n",
    "    return final_result"
   ]
  },
  {
   "cell_type": "code",
   "execution_count": 112,
   "metadata": {},
   "outputs": [
    {
     "data": {
      "text/plain": [
       "['+a', '+b', '+c', '-a', '#b']"
      ]
     },
     "execution_count": 112,
     "metadata": {},
     "output_type": "execute_result"
    }
   ],
   "source": [
    "decode_message(\"+a+b+c-a#b\")"
   ]
  },
  {
   "cell_type": "code",
   "execution_count": 113,
   "metadata": {},
   "outputs": [
    {
     "data": {
      "text/plain": [
       "['+a',\n",
       " '+a',\n",
       " '+b',\n",
       " '+b',\n",
       " '+a',\n",
       " '+a',\n",
       " '+b',\n",
       " '+c',\n",
       " '-a',\n",
       " '+c',\n",
       " '-a',\n",
       " '+d',\n",
       " '-a',\n",
       " '-a',\n",
       " '+c',\n",
       " '-a',\n",
       " '+d',\n",
       " '#b',\n",
       " '#c',\n",
       " '-d',\n",
       " '#b',\n",
       " '+d',\n",
       " '#b',\n",
       " '+a',\n",
       " '#b',\n",
       " '+d',\n",
       " '#b',\n",
       " '+d',\n",
       " '#b',\n",
       " '#c',\n",
       " '-d',\n",
       " '#b',\n",
       " '#c',\n",
       " '-d',\n",
       " '#b']"
      ]
     },
     "execution_count": 113,
     "metadata": {},
     "output_type": "execute_result"
    }
   ],
   "source": [
    "decode_message(\"+a+a+b+c-a+d#b#c-d#b+b+c-a+d-a+d#b+a#b-a+d#b+a+a+b+c-a+d#b#c-d#b#c-d#b\")"
   ]
  },
  {
   "cell_type": "code",
   "execution_count": 114,
   "metadata": {},
   "outputs": [],
   "source": [
    "dict_client_tags = {}"
   ]
  },
  {
   "cell_type": "code",
   "execution_count": 117,
   "metadata": {},
   "outputs": [],
   "source": [
    "def add_tag_to_client(ip_port, tag, dict_client_tags):\n",
    "    if ip_port in dict_client_tags:\n",
    "        temp_list = dict_client_tags[ip_port]\n",
    "        if tag not in temp_list:\n",
    "            temp_list.append(tag)\n",
    "            dict_client_tags[ip_port] = temp_list\n",
    "    else:\n",
    "        dict_client_tags[ip_port] = [tag]\n",
    "    return dict_client_tags"
   ]
  },
  {
   "cell_type": "code",
   "execution_count": 122,
   "metadata": {},
   "outputs": [],
   "source": [
    "def remove_tag_from_client(ip_port, tag, dict_client_tags):\n",
    "    if ip_port in dict_client_tags:\n",
    "        temp_list = dict_client_tags[ip_port]\n",
    "        temp_list.remove(tag)\n",
    "        dict_client_tags[ip_port] = temp_list\n",
    "    return dict_client_tags\n",
    "    "
   ]
  },
  {
   "cell_type": "code",
   "execution_count": 119,
   "metadata": {},
   "outputs": [
    {
     "data": {
      "text/plain": [
       "{'1.1.1.1:8080': ['tag1']}"
      ]
     },
     "execution_count": 119,
     "metadata": {},
     "output_type": "execute_result"
    }
   ],
   "source": [
    "add_tag_to_client('1.1.1.1:8080', \"tag1\", dict_client_tags)"
   ]
  },
  {
   "cell_type": "code",
   "execution_count": 120,
   "metadata": {},
   "outputs": [
    {
     "data": {
      "text/plain": [
       "{'1.1.1.1:8080': ['tag1', 'tag2']}"
      ]
     },
     "execution_count": 120,
     "metadata": {},
     "output_type": "execute_result"
    }
   ],
   "source": [
    "add_tag_to_client('1.1.1.1:8080', \"tag2\", dict_client_tags)"
   ]
  },
  {
   "cell_type": "code",
   "execution_count": 121,
   "metadata": {},
   "outputs": [
    {
     "data": {
      "text/plain": [
       "{'1.1.1.1:8080': ['tag1', 'tag2'], '1.1.1.2:8080': ['tag1']}"
      ]
     },
     "execution_count": 121,
     "metadata": {},
     "output_type": "execute_result"
    }
   ],
   "source": [
    "add_tag_to_client('1.1.1.2:8080', \"tag1\", dict_client_tags)"
   ]
  },
  {
   "cell_type": "code",
   "execution_count": 123,
   "metadata": {},
   "outputs": [
    {
     "data": {
      "text/plain": [
       "{'1.1.1.1:8080': ['tag1'], '1.1.1.2:8080': ['tag1']}"
      ]
     },
     "execution_count": 123,
     "metadata": {},
     "output_type": "execute_result"
    }
   ],
   "source": [
    "remove_tag_from_client('1.1.1.1:8080', \"tag2\", dict_client_tags)"
   ]
  },
  {
   "cell_type": "code",
   "execution_count": null,
   "metadata": {},
   "outputs": [],
   "source": []
  }
 ],
 "metadata": {
  "kernelspec": {
   "display_name": "Python (py36)",
   "language": "python",
   "name": "py36"
  },
  "language_info": {
   "codemirror_mode": {
    "name": "ipython",
    "version": 3
   },
   "file_extension": ".py",
   "mimetype": "text/x-python",
   "name": "python",
   "nbconvert_exporter": "python",
   "pygments_lexer": "ipython3",
   "version": "3.6.4"
  }
 },
 "nbformat": 4,
 "nbformat_minor": 2
}
